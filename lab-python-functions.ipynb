{
 "cells": [
  {
   "cell_type": "markdown",
   "id": "25d7736c-ba17-4aff-b6bb-66eba20fbf4e",
   "metadata": {},
   "source": [
    "# Lab | Functions | Samia"
   ]
  },
  {
   "cell_type": "markdown",
   "id": "0c581062-8967-4d93-b06e-62833222f930",
   "metadata": {
    "tags": []
   },
   "source": [
    "## Exercise: Managing Customer Orders with Functions\n",
    "\n",
    "In the previous exercise, you improved the code for managing customer orders by using loops and flow control. Now, let's take it a step further and refactor the code by introducing functions.\n",
    "\n",
    "Follow the steps below to complete the exercise:\n",
    "\n",
    "1. Define a function named `initialize_inventory` that takes `products` as a parameter. Inside the function, implement the code for initializing the inventory dictionary using a loop and user input.\n",
    "\n",
    "2. Define a function named `get_customer_orders` that takes no parameters. Inside the function, implement the code for prompting the user to enter the product names using a loop. The function should return the `customer_orders` set.\n",
    "\n",
    "3. Define a function named `update_inventory` that takes `customer_orders` and `inventory` as parameters. Inside the function, implement the code for updating the inventory dictionary based on the customer orders.\n",
    "\n",
    "4. Define a function named `calculate_order_statistics` that takes `customer_orders` and `products` as parameters. Inside the function, implement the code for calculating the order statistics (total products ordered, and percentage of unique products ordered). The function should return these values.\n",
    "\n",
    "5. Define a function named `print_order_statistics` that takes `order_statistics` as a parameter. Inside the function, implement the code for printing the order statistics.\n",
    "\n",
    "6. Define a function named `print_updated_inventory` that takes `inventory` as a parameter. Inside the function, implement the code for printing the updated inventory.\n",
    "\n",
    "7. Call the functions in the appropriate sequence to execute the program and manage customer orders.\n",
    "\n",
    "Hints for functions:\n",
    "\n",
    "- Consider the input parameters required for each function and their return values.\n",
    "- Utilize function parameters and return values to transfer data between functions.\n",
    "- Test your functions individually to ensure they work correctly.\n",
    "\n",
    "\n"
   ]
  },
  {
   "cell_type": "markdown",
   "id": "d6bf0c1e",
   "metadata": {},
   "source": [
    "# Lab | Functions | Samia"
   ]
  },
  {
   "cell_type": "markdown",
   "id": "d920eac0",
   "metadata": {},
   "source": [
    "## Answer:"
   ]
  },
  {
   "cell_type": "code",
   "execution_count": 2,
   "id": "eb90bdaa",
   "metadata": {},
   "outputs": [],
   "source": [
    "#1. definition Function : initialize_inventory(products)\n",
    "# Implement for initializing the inventory dictionary using a loop and user input\n",
    "def initialize_inventory(products):\n",
    "    inventory = {}\n",
    "    for item in products:\n",
    "        quantity = int(input(f\"Enter quantity for {item}: \"))\n",
    "        inventory[item] = quantity\n",
    "    return inventory"
   ]
  },
  {
   "cell_type": "code",
   "execution_count": null,
   "id": "3384e992",
   "metadata": {},
   "outputs": [],
   "source": [
    "#2. definition Function : get_customer_orders()\n",
    "def get_customer_orders():\n",
    "    customer_orders = set()\n",
    "    while True: # Prompt the user to enter the product names using a loop\n",
    "        product = input(f\"Enter a product name to order (or type 'DONE' to finish your order): \")\n",
    "        if product.lower() == 'done':\n",
    "            break\n",
    "        customer_orders.add(product)\n",
    "    return customer_orders # return Function : `customer_orders` set"
   ]
  },
  {
   "cell_type": "code",
   "execution_count": 4,
   "id": "233c68ec",
   "metadata": {},
   "outputs": [],
   "source": [
    "#3. definition Function : update_inventory(customer_orders, inventory)\n",
    "def update_inventory(customer_orders, inventory):\n",
    "    for item in customer_orders: \n",
    "        if item in inventory:   # Update the inventory based on customer orders\n",
    "            inventory[item] -= 1 # Decrease the quantity by 1\n",
    "            if inventory[item] == 0: # If the quantity reaches zero, remove the item from the inventory\n",
    "                del inventory[item]\n",
    "    return inventory"
   ]
  },
  {
   "cell_type": "code",
   "execution_count": 5,
   "id": "e9352bc1",
   "metadata": {},
   "outputs": [],
   "source": [
    "#4. definition Function : calculate_order_statistics(customer_orders, products)\n",
    "def calculate_order_statistics(customer_orders, products):\n",
    "    total_products_ordered = len(customer_orders)\n",
    "    unique_products_ordered = len(customer_orders.intersection(set(products)))\n",
    "# Calculate order statistics (total products ordered, and percentage of unique products ordered)\n",
    "    order_statistics = {\n",
    "        \"total_products_ordered\": total_products_ordered,\n",
    "        \"percentage_unique_products_ordered\": (unique_products_ordered / len(products)) * 100 if products else 0\n",
    "    }\n",
    "    return order_statistics\n"
   ]
  },
  {
   "cell_type": "code",
   "execution_count": 6,
   "id": "c360caba",
   "metadata": {},
   "outputs": [],
   "source": [
    "#5. definition Function : print_order_statistics(order_statistics)\n",
    "def print_order_statistics(order_statistics):\n",
    "    for item, quantity in order_statistics.items(): # Print order statistics\n",
    "        print(f\"Product: {item}, Quantity Remaining: {quantity}\")\n",
    "# Print order statistics\n",
    "    for item, quantity in order_statistics.items():\n",
    "        print(f\"Product: {item}, Quantity Remaining: {quantity}\")"
   ]
  },
  {
   "cell_type": "code",
   "execution_count": null,
   "id": "15431b0d",
   "metadata": {},
   "outputs": [],
   "source": [
    "#6. definition Function : print_updated_inventory(inventory)\n",
    "def print_updated_inventory(inventory):\n",
    "    print(f\"Updated Inventory:\")\n",
    "    for item, quantity in inventory.items():\n",
    "        print(f\"Product: {item}, Quantity: {quantity}\")\n",
    "# Print updated inventory\n",
    "    print(f\"Updated Inventory:\")\n",
    "    for item, quantity in inventory.items():\n",
    "        print(f\"Product: {item}, Quantity: {quantity}\")"
   ]
  },
  {
   "cell_type": "code",
   "execution_count": 8,
   "id": "9c570942",
   "metadata": {},
   "outputs": [
    {
     "name": "stdout",
     "output_type": "stream",
     "text": [
      "['t-shirt', 'mug', 'hat', 'book', 'keychain']\n",
      "Updated Inventory:\n",
      "Product: t-shirt, Quantity: 5\n",
      "Product: mug, Quantity: 9\n",
      "Product: hat, Quantity: 14\n",
      "Product: book, Quantity: 19\n",
      "Product: keychain, Quantity: 25\n",
      "Updated Inventory:\n",
      "Product: t-shirt, Quantity: 5\n",
      "Product: mug, Quantity: 9\n",
      "Product: hat, Quantity: 14\n",
      "Product: book, Quantity: 19\n",
      "Product: keychain, Quantity: 25\n",
      "Product: total_products_ordered, Quantity Remaining: 3\n",
      "Product: percentage_unique_products_ordered, Quantity Remaining: 60.0\n",
      "Product: total_products_ordered, Quantity Remaining: 3\n",
      "Product: percentage_unique_products_ordered, Quantity Remaining: 60.0\n"
     ]
    }
   ],
   "source": [
    "#7. call all functions above in the appropriate sequence to execute the program and manage customer orders:\n",
    "# List of products available from the previ labs\n",
    "\n",
    "# definition List: products   \n",
    "products = [\"t-shirt\", \"mug\", \"hat\", \"book\", \"keychain\"]\n",
    "print(products)\n",
    "\n",
    "# call Functions order:\n",
    "#1. call Function : initialize_inventory(products)\n",
    "inventory = initialize_inventory(products)\n",
    "\n",
    "#2. call Function : get_customer_orders()\n",
    "customer_orders = get_customer_orders()\n",
    "\n",
    "#3. call Function : update_inventory(customer_orders, inventory)\n",
    "update_inventory(customer_orders, inventory)\n",
    "\n",
    "#6. call Function : print_updated_inventory(inventory)\n",
    "print_updated_inventory(inventory)\n",
    "\n",
    "#4. call Function : calculate_order_statistics(customer_orders, products)\n",
    "order_statistics = calculate_order_statistics(customer_orders, products)\n",
    "\n",
    "#5. call Function : print_order_statistics(order_statistics)\n",
    "print_order_statistics(order_statistics)"
   ]
  }
 ],
 "metadata": {
  "kernelspec": {
   "display_name": "base",
   "language": "python",
   "name": "python3"
  },
  "language_info": {
   "codemirror_mode": {
    "name": "ipython",
    "version": 3
   },
   "file_extension": ".py",
   "mimetype": "text/x-python",
   "name": "python",
   "nbconvert_exporter": "python",
   "pygments_lexer": "ipython3",
   "version": "3.13.5"
  }
 },
 "nbformat": 4,
 "nbformat_minor": 5
}
